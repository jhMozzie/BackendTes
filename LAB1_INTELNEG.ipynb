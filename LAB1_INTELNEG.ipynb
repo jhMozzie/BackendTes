{
  "nbformat": 4,
  "nbformat_minor": 0,
  "metadata": {
    "colab": {
      "provenance": [],
      "authorship_tag": "ABX9TyP5BPOkYj78lRPebIQXpY85",
      "include_colab_link": true
    },
    "kernelspec": {
      "name": "python3",
      "display_name": "Python 3"
    },
    "language_info": {
      "name": "python"
    }
  },
  "cells": [
    {
      "cell_type": "markdown",
      "metadata": {
        "id": "view-in-github",
        "colab_type": "text"
      },
      "source": [
        "<a href=\"https://colab.research.google.com/github/jhMozzie/BackendTes/blob/main/LAB1_INTELNEG.ipynb\" target=\"_parent\"><img src=\"https://colab.research.google.com/assets/colab-badge.svg\" alt=\"Open In Colab\"/></a>"
      ]
    },
    {
      "cell_type": "code",
      "execution_count": null,
      "metadata": {
        "id": "MyF9qynaUJ_Q"
      },
      "outputs": [],
      "source": [
        "import pandas as pd"
      ]
    },
    {
      "cell_type": "code",
      "source": [
        "# Load CSV file from sample_data\n",
        "data = pd.read_csv(\"/content/sample_data/data_wine.csv\", sep=\";\")\n",
        "\n",
        "# Show the first rows(optional, just to check the data)\n",
        "print(data.head())"
      ],
      "metadata": {
        "colab": {
          "base_uri": "https://localhost:8080/"
        },
        "id": "e5tcQdXlUVvE",
        "outputId": "65dc5787-eef8-42b6-b77a-8a015a0e5bb1"
      },
      "execution_count": null,
      "outputs": [
        {
          "output_type": "stream",
          "name": "stdout",
          "text": [
            "   type_wine  Alcohol  Malic acid   Ash  Alcalinity of ash    Magnesium  \\\n",
            "0          1    14.23        1.71  2.43                 15.6        127   \n",
            "1          1    13.20        1.78  2.14                 11.2        100   \n",
            "2          1    13.16        2.36  2.67                 18.6        101   \n",
            "3          1    14.37        1.95  2.50                 16.8        113   \n",
            "4          1    13.24        2.59  2.87                 21.0        118   \n",
            "\n",
            "   Total phenols  Flavanoids  Nonflavanoid phenols  Proanthocyanins  \\\n",
            "0           2.80        3.06                  0.28             2.29   \n",
            "1           2.65        2.76                  0.26             1.28   \n",
            "2           2.80        3.24                  0.30             2.81   \n",
            "3           3.85        3.49                  0.24             2.18   \n",
            "4           2.80        2.69                  0.39             1.82   \n",
            "\n",
            "   Color intensity   Hue  diluted_wines  Proline              \n",
            "0             5.64  1.04           3.92                 1065  \n",
            "1             4.38  1.05           3.40                 1050  \n",
            "2             5.68  1.03           3.17                 1185  \n",
            "3             7.80  0.86           3.45                 1480  \n",
            "4             4.32  1.04           2.93                  735  \n"
          ]
        }
      ]
    },
    {
      "cell_type": "code",
      "source": [
        "# First, Number of rows and columns\n",
        "rows, cols = data.shape\n",
        "print(\"Number of rows\", rows)\n",
        "print(\"Number of columns\", cols)\n",
        "print(data.columns)"
      ],
      "metadata": {
        "colab": {
          "base_uri": "https://localhost:8080/"
        },
        "id": "7VhEpStIU_zD",
        "outputId": "3a391018-c681-4d1c-b0df-332c98dac48c"
      },
      "execution_count": null,
      "outputs": [
        {
          "output_type": "stream",
          "name": "stdout",
          "text": [
            "Number of rows 178\n",
            "Number of columns 14\n",
            "Index(['type_wine', 'Alcohol', 'Malic acid', 'Ash', 'Alcalinity of ash  ',\n",
            "       'Magnesium', 'Total phenols', 'Flavanoids', 'Nonflavanoid phenols',\n",
            "       'Proanthocyanins', 'Color intensity', 'Hue', 'diluted_wines',\n",
            "       'Proline            '],\n",
            "      dtype='object')\n"
          ]
        }
      ]
    },
    {
      "cell_type": "code",
      "source": [
        "# 2️⃣ Mean of the \"Magnesium\" column\n",
        "mean_magnesium = data[\"Magnesium\"].mean()\n",
        "print(\"Mean of Magnesium:\", mean_magnesium)"
      ],
      "metadata": {
        "colab": {
          "base_uri": "https://localhost:8080/"
        },
        "id": "tenG3cb1VR9f",
        "outputId": "b97c0da4-c21e-4ac4-8172-d6ba0225e16b"
      },
      "execution_count": null,
      "outputs": [
        {
          "output_type": "stream",
          "name": "stdout",
          "text": [
            "Mean of Magnesium: 99.74157303370787\n"
          ]
        }
      ]
    },
    {
      "cell_type": "code",
      "source": [
        "# Median of Alcohol\n",
        "median_alcohol = data[\"Alcohol\"].median()\n",
        "print(\"Median of Alcohol:\", median_alcohol)\n"
      ],
      "metadata": {
        "colab": {
          "base_uri": "https://localhost:8080/"
        },
        "id": "4s9RvuEFWEBJ",
        "outputId": "50fd6dd0-0962-4f1e-a82a-f83f18cde507"
      },
      "execution_count": null,
      "outputs": [
        {
          "output_type": "stream",
          "name": "stdout",
          "text": [
            "Median of Alcohol: 13.05\n"
          ]
        }
      ]
    },
    {
      "cell_type": "code",
      "source": [
        "# Sum of Magnesium\n",
        "sum_magnesium = data[\"Magnesium\"].sum()\n",
        "print(\"Sum of Magnesium:\", sum_magnesium)"
      ],
      "metadata": {
        "colab": {
          "base_uri": "https://localhost:8080/"
        },
        "id": "coFisnvvWEHI",
        "outputId": "c9de061c-b523-45cf-b7c6-87cc30d72882"
      },
      "execution_count": null,
      "outputs": [
        {
          "output_type": "stream",
          "name": "stdout",
          "text": [
            "Sum of Magnesium: 17754\n"
          ]
        }
      ]
    }
  ]
}